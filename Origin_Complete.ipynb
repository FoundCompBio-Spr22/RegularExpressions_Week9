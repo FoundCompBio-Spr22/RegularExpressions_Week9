{
 "cells": [
  {
   "cell_type": "markdown",
   "metadata": {},
   "source": [
    "# Origin of Species Exercise"
   ]
  },
  {
   "cell_type": "code",
   "execution_count": 1,
   "metadata": {
    "collapsed": true
   },
   "outputs": [],
   "source": [
    "import re"
   ]
  },
  {
   "cell_type": "markdown",
   "metadata": {},
   "source": [
    "### How many times is the name Darwin referenced? And how many different people with that name?"
   ]
  },
  {
   "cell_type": "code",
   "execution_count": 2,
   "metadata": {
    "collapsed": true
   },
   "outputs": [],
   "source": [
    "originIn = open(\"origin.txt\",'r')\n",
    "darwinMatches = re.findall(\"(\\w+) Darwin\",originIn.read())\n",
    "originIn.close()"
   ]
  },
  {
   "cell_type": "code",
   "execution_count": 3,
   "metadata": {},
   "outputs": [
    {
     "name": "stdout",
     "output_type": "stream",
     "text": [
      "The name Darwin is referenced 4 times.\n"
     ]
    }
   ],
   "source": [
    "print(\"The name Darwin is referenced %d times.\" % (len(darwinMatches)))"
   ]
  },
  {
   "cell_type": "code",
   "execution_count": 4,
   "metadata": {},
   "outputs": [
    {
     "data": {
      "text/plain": [
       "['Charles', 'Charles', 'Charles', 'Erasmus']"
      ]
     },
     "execution_count": 4,
     "metadata": {},
     "output_type": "execute_result"
    }
   ],
   "source": [
    "darwinMatches"
   ]
  },
  {
   "cell_type": "code",
   "execution_count": 5,
   "metadata": {},
   "outputs": [
    {
     "name": "stdout",
     "output_type": "stream",
     "text": [
      "The Darwins referenced are:\n",
      "{'Charles', 'Erasmus'}\n"
     ]
    }
   ],
   "source": [
    "print(\"The Darwins referenced are:\"); print(set(darwinMatches))"
   ]
  },
  {
   "cell_type": "markdown",
   "metadata": {},
   "source": [
    "### How many times does Darwin use the term \"evolution\" or some closely related word (e.g., \"evolutionist\")? Note that the word can start a sentence (i.e., Evolution...) or be in the middle of a sentence (i.e., evolution...)."
   ]
  },
  {
   "cell_type": "code",
   "execution_count": 6,
   "metadata": {
    "collapsed": true
   },
   "outputs": [],
   "source": [
    "originIn = open(\"origin.txt\",'r')\n",
    "evolutionMatches = re.findall(\"\\s[E,e]volution\\S*\",originIn.read())\n",
    "originIn.close()\n",
    "\n",
    "# Need to include whitespace at the beginning to avoid \"revolution\"\n",
    "# Need to use \\S* at end to match 0 or more non-whitespace characters"
   ]
  },
  {
   "cell_type": "code",
   "execution_count": 7,
   "metadata": {},
   "outputs": [
    {
     "name": "stdout",
     "output_type": "stream",
     "text": [
      "Darwin uses some form of \"evolution\" 10 times.\n"
     ]
    }
   ],
   "source": [
    "print(\"Darwin uses some form of \\\"evolution\\\" %d times.\" % len(evolutionMatches))"
   ]
  },
  {
   "cell_type": "code",
   "execution_count": 8,
   "metadata": {},
   "outputs": [
    {
     "name": "stdout",
     "output_type": "stream",
     "text": [
      "The forms of \"evolution\" used are:\n",
      "['\\nevolutionists', ' evolution', '\\nevolutionists;', ' evolution,', ' evolution,', ' evolution,', ' evolution', ' evolution,', ' evolution,', '\\nevolution.']\n"
     ]
    }
   ],
   "source": [
    "print(\"The forms of \\\"evolution\\\" used are:\"); print(evolutionMatches)"
   ]
  },
  {
   "cell_type": "markdown",
   "metadata": {},
   "source": [
    "### How many times does Darwin write some character (any one other than whitespace), followed by a period, followed by another character (not whitespace)?"
   ]
  },
  {
   "cell_type": "code",
   "execution_count": 9,
   "metadata": {
    "collapsed": true
   },
   "outputs": [],
   "source": [
    "originIn = open(\"origin.txt\",'r')\n",
    "decimalMatches = re.findall(\"\\S\\.\\S\",originIn.read())\n",
    "originIn.close()"
   ]
  },
  {
   "cell_type": "code",
   "execution_count": 10,
   "metadata": {},
   "outputs": [
    {
     "name": "stdout",
     "output_type": "stream",
     "text": [
      "Darwin uses a decimal pattern 740 times.\n"
     ]
    }
   ],
   "source": [
    "print(\"Darwin uses a decimal pattern %d times.\" % len(decimalMatches))"
   ]
  },
  {
   "cell_type": "markdown",
   "metadata": {},
   "source": [
    "### Darwin is known for his copious commas. Can you find the single line in this file that has 9 commas?"
   ]
  },
  {
   "cell_type": "code",
   "execution_count": 11,
   "metadata": {},
   "outputs": [
    {
     "name": "stdout",
     "output_type": "stream",
     "text": [
      "If, for instance, the genera _a_1, _a_5, _a_10, _f_8, _m_3, _m_6, _m_9,\n",
      "\n"
     ]
    }
   ],
   "source": [
    "originIn = open(\"origin.txt\",'r')\n",
    "for line in originIn:\n",
    "    if re.search(\"^.*,.*,.*,.*,.*,.*,.*,.*,.*,$\",line):\n",
    "        print(line)\n",
    "originIn.close()"
   ]
  },
  {
   "cell_type": "markdown",
   "metadata": {},
   "source": [
    "### How many times (in total) does Darwin use the Roman numeral for 5 (v, V), 6 (vi, VI), 7 (vii, VII), and 8 (viii, VIII)? You can assume that he always terminates these with a period. (e.g., vi.)"
   ]
  },
  {
   "cell_type": "code",
   "execution_count": 12,
   "metadata": {
    "collapsed": true
   },
   "outputs": [],
   "source": [
    "originIn = open(\"origin.txt\",'r')\n",
    "romanNumerals = re.findall(\"\\s[vV][iI]*\\.\",originIn.read())\n",
    "originIn.close()"
   ]
  },
  {
   "cell_type": "code",
   "execution_count": 13,
   "metadata": {},
   "outputs": [
    {
     "name": "stdout",
     "output_type": "stream",
     "text": [
      "Darwin uses the roman numerals V-VIII 13 times.\n"
     ]
    }
   ],
   "source": [
    "print(\"Darwin uses the roman numerals V-VIII %d times.\" % len(romanNumerals))"
   ]
  }
 ],
 "metadata": {
  "kernelspec": {
   "display_name": "Python 3",
   "language": "python",
   "name": "python3"
  },
  "language_info": {
   "codemirror_mode": {
    "name": "ipython",
    "version": 3
   },
   "file_extension": ".py",
   "mimetype": "text/x-python",
   "name": "python",
   "nbconvert_exporter": "python",
   "pygments_lexer": "ipython3",
   "version": "3.6.2"
  }
 },
 "nbformat": 4,
 "nbformat_minor": 2
}
